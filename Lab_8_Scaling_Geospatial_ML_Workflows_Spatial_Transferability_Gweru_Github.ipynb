{
  "nbformat": 4,
  "nbformat_minor": 0,
  "metadata": {
    "colab": {
      "provenance": [],
      "include_colab_link": true
    },
    "kernelspec": {
      "name": "python3",
      "display_name": "Python 3"
    },
    "language_info": {
      "name": "python"
    }
  },
  "cells": [
    {
      "cell_type": "markdown",
      "metadata": {
        "id": "view-in-github",
        "colab_type": "text"
      },
      "source": [
        "<a href=\"https://colab.research.google.com/github/ck1972/University-GeoAI/blob/main/Lab_8_Scaling_Geospatial_ML_Workflows_Spatial_Transferability_Gweru_Github.ipynb\" target=\"_parent\"><img src=\"https://colab.research.google.com/assets/colab-badge.svg\" alt=\"Open In Colab\"/></a>"
      ]
    },
    {
      "cell_type": "markdown",
      "source": [
        "# **Lab 8. Scaling Geospatial Machine Learning — Exploring the Spatial Transferability of Random Forest Models for Land Cover Classification**\n"
      ],
      "metadata": {
        "id": "vZ4_Q66bOiWZ"
      }
    },
    {
      "cell_type": "markdown",
      "source": [
        "## Imports and Setup\n",
        "### Install libraries\n",
        "First, install any additional libraries that are not installed by default (e.g., rasterio, earthpy)."
      ],
      "metadata": {
        "id": "-pwDPkalAvRb"
      }
    },
    {
      "cell_type": "code",
      "execution_count": null,
      "metadata": {
        "id": "aWr5V6krNx-I",
        "collapsed": true
      },
      "outputs": [],
      "source": [
        "# Install rasterio and earthpy libraries\n",
        "!pip install rasterio\n",
        "!pip install earthpy"
      ]
    },
    {
      "cell_type": "markdown",
      "source": [
        "### Import libraries\n",
        "Import the necessary libraries (pandas, numpy, scikit-learn, rasterio, etc.)."
      ],
      "metadata": {
        "id": "SIhoHLoHq8_L"
      }
    },
    {
      "cell_type": "code",
      "source": [
        "# Import libraries\n",
        "import earthpy.plot as ep\n",
        "import numpy as np\n",
        "import matplotlib.pyplot as plt\n",
        "import rasterio\n",
        "import joblib\n",
        "from matplotlib.colors import from_levels_and_colors\n",
        "from google.colab import drive"
      ],
      "metadata": {
        "id": "F6bfz1KZzA-J"
      },
      "execution_count": null,
      "outputs": []
    },
    {
      "cell_type": "markdown",
      "source": [
        "### Mount Google Drive\n",
        "Next, mount your Google Drive. You will be prompted to authorize access to your Google Drive. Once mounted, you can read/write files in /content/drive/MyDrive."
      ],
      "metadata": {
        "id": "bzVfa9mtzRMO"
      }
    },
    {
      "cell_type": "code",
      "source": [
        "# Mount Google Drive\n",
        "drive.mount('/content/drive')"
      ],
      "metadata": {
        "colab": {
          "base_uri": "https://localhost:8080/"
        },
        "id": "VXvi8JvIzRmY",
        "outputId": "13e75cd5-7594-4a10-93b7-6984a8c44b05"
      },
      "execution_count": null,
      "outputs": [
        {
          "output_type": "stream",
          "name": "stdout",
          "text": [
            "Drive already mounted at /content/drive; to attempt to forcibly remount, call drive.mount(\"/content/drive\", force_remount=True).\n"
          ]
        }
      ]
    },
    {
      "cell_type": "markdown",
      "source": [
        "### Define file paths and metadata\n",
        "Define the the paths to access your own directory structure in Google Drive. In this tutorial, we use:\n",
        "-A CSV training dataset (Bul_TrainingData_2024.csv) containing pixel values and their corresponding classes.\n",
        "- A multiband Sentinel-2 image (Bul_S2_2024.tif).\n",
        "- PALSAR ScanSAR polarization"
      ],
      "metadata": {
        "id": "l0HWzfHGzVCH"
      }
    },
    {
      "cell_type": "code",
      "source": [
        "# Define file paths\n",
        "s2_path = '/content/drive/MyDrive/Gweru_Dataset_2024/Gw_S2_2024.tif'\n",
        "palsar_path = '/content/drive/MyDrive/Gweru_Dataset_2024/Gw_Palsar_HV_2024.tif'\n",
        "model_path = '/content/drive/MyDrive/Bulawayo_Dataset_2024/best_rf_model.pkl'\n",
        "output_path = '/content/drive/MyDrive/Gweru_Dataset_2024/Gw_LandCover_RF_2024.tif'\n",
        "\n",
        "# Define metadata\n",
        "Bands = ['B2', 'B3', 'B4', 'B5', 'B6', 'B7', 'B8', 'B11', 'B12', 'HV']\n",
        "Classes = [0, 1, 2, 3, 4, 5]\n",
        "Names = [\"Bare area\", \"Built-up\", \"Cropland\", \"Grassland\", \"Woodland\", \"Water\"]\n",
        "Palette = ['#D3D3D3', '#FF0000', '#FFD700', '#ADFF2F', '#006400', '#0000FF']"
      ],
      "metadata": {
        "id": "rAhoAyB3OHYU"
      },
      "execution_count": null,
      "outputs": []
    },
    {
      "cell_type": "markdown",
      "source": [
        "## Load the trained random forest model\n",
        "Next, we will load a previously trained random forest model that was saved in Lab 5b."
      ],
      "metadata": {
        "id": "z5OiNvFS_ouw"
      }
    },
    {
      "cell_type": "code",
      "source": [
        "# Load the trained model\n",
        "model_package = joblib.load(model_path)\n",
        "rf = model_package['model']\n",
        "features = model_package['features']"
      ],
      "metadata": {
        "id": "Fad4bQo8O8f6"
      },
      "execution_count": null,
      "outputs": []
    },
    {
      "cell_type": "markdown",
      "source": [
        "## Load and display Sentinel-2 and PALSAR HV images for Gweru\n",
        "We will use rasterio to open Sentinel-2 imagery and ALOS PALSAR ScanSAR HV polarization for the new study area."
      ],
      "metadata": {
        "id": "C5gp8p3APPfX"
      }
    },
    {
      "cell_type": "code",
      "source": [
        "# Load Sentinel-2 bands (assumes 9 bands in the correct order: B2 to B12)\n",
        "with rasterio.open(s2_path) as s2_src:\n",
        "    s2_bands = s2_src.read(list(range(1, 10)))\n",
        "    profile = s2_src.profile  # Save for writing output\n",
        "\n",
        "# Load PALSAR HV band\n",
        "with rasterio.open(palsar_path) as palsar_src:\n",
        "    palsar_hv = palsar_src.read(1)\n",
        "\n",
        "# Display Sentinel-2 RGB and PALSAR HV\n",
        "# Select bands for RGB\n",
        "red = s2_bands[8, :, :]   # B12 (SWIR2)\n",
        "green = s2_bands[6, :, :] # B8 (NIR)\n",
        "blue = s2_bands[2, :, :]  # B4 (Red)\n",
        "\n",
        "# Normalize for display\n",
        "rgb = np.stack([red, green, blue], axis=-1)\n",
        "rgb_min, rgb_max = 0, 0.4\n",
        "rgb_display = np.clip((rgb - rgb_min) / (rgb_max - rgb_min), 0, 1)\n",
        "\n",
        "# Normalize PALSAR HV\n",
        "hv_min, hv_max = 0, 1\n",
        "hv_display = np.clip((palsar_hv - hv_min) / (hv_max - hv_min), 0, 1)"
      ],
      "metadata": {
        "id": "J8WcdvV7PZAG"
      },
      "execution_count": null,
      "outputs": []
    },
    {
      "cell_type": "markdown",
      "source": [
        "### Display images\n",
        "Display the Sentinel-2 composite and the PALSAR ScanSAR HV polorization images."
      ],
      "metadata": {
        "id": "t-8cTffxQkjA"
      }
    },
    {
      "cell_type": "code",
      "source": [
        "# Plot\n",
        "fig, axs = plt.subplots(1, 2, figsize=(14, 7))\n",
        "axs[0].imshow(rgb_display)\n",
        "axs[0].set_title('Sentinel-2 RGB (B11, B8, B4)')\n",
        "axs[0].axis('off')\n",
        "\n",
        "axs[1].imshow(hv_display, cmap='gray')\n",
        "axs[1].set_title('PALSAR HV Backscatter')\n",
        "axs[1].axis('off')\n",
        "\n",
        "plt.tight_layout()\n",
        "plt.show()"
      ],
      "metadata": {
        "id": "UwHMTlRvQp5N"
      },
      "execution_count": null,
      "outputs": []
    },
    {
      "cell_type": "markdown",
      "source": [
        "## Apply the model to classify land cover in the study area\n",
        "Next, we will prepare the input features and apply the trained random forest model to predict land cover classes for a new study area (Gweru).\n"
      ],
      "metadata": {
        "id": "XjOx0tizPrdy"
      }
    },
    {
      "cell_type": "code",
      "source": [
        "# Stack and Predict\n",
        "# Stack S2 and PALSAR HV\n",
        "bands_data = np.concatenate([s2_bands, palsar_hv[np.newaxis, :, :]], axis=0)  # (10, H, W)\n",
        "bands_data = np.transpose(bands_data, (1, 2, 0))  # (H, W, 10)\n",
        "flat_pixels = bands_data.reshape(-1, bands_data.shape[-1])  # (N_pixels, 10)\n",
        "\n",
        "# Predict\n",
        "predictions = rf.predict(flat_pixels)\n",
        "predicted_image = predictions.reshape(bands_data.shape[:2])  # (H, W)"
      ],
      "metadata": {
        "colab": {
          "base_uri": "https://localhost:8080/"
        },
        "id": "68CeuOPKPvjz",
        "outputId": "f3024ce1-5263-4429-f8a3-4bc227a5b059"
      },
      "execution_count": null,
      "outputs": [
        {
          "output_type": "stream",
          "name": "stderr",
          "text": [
            "/usr/local/lib/python3.11/dist-packages/sklearn/utils/validation.py:2739: UserWarning: X does not have valid feature names, but RandomForestClassifier was fitted with feature names\n",
            "  warnings.warn(\n"
          ]
        }
      ]
    },
    {
      "cell_type": "markdown",
      "source": [
        "## Display and export the predicted land cover map\n",
        "Finally, we display the land cover map and then export it to Google Drive as GeoTIFF using rasterio."
      ],
      "metadata": {
        "id": "oPVsjmUFP6YX"
      }
    },
    {
      "cell_type": "code",
      "source": [
        "# Display Predicted Map\n",
        "levels = Classes + [max(Classes) + 1]\n",
        "cmap, norm = from_levels_and_colors(levels, Palette)\n",
        "\n",
        "plt.figure(figsize=(10, 8))\n",
        "im = plt.imshow(predicted_image, cmap=cmap, norm=norm)\n",
        "plt.title(\"Predicted Land Cover Map - Gweru\")\n",
        "cbar = plt.colorbar(im, shrink=0.7)\n",
        "tick_positions = [i + 0.5 for i in Classes]\n",
        "cbar.set_ticks(tick_positions)\n",
        "cbar.set_ticklabels(Names)\n",
        "plt.axis('off')\n",
        "plt.show()\n",
        "\n",
        "# Save to GeoTIFF\n",
        "profile.update(dtype=rasterio.uint8, count=1)\n",
        "with rasterio.open(output_path, 'w', **profile) as dst:\n",
        "    dst.write(predicted_image.astype(rasterio.uint8), 1)\n",
        "\n",
        "print(\"Land cover map saved to:\", output_path)"
      ],
      "metadata": {
        "id": "yVfDQqx4P9-c"
      },
      "execution_count": null,
      "outputs": []
    }
  ]
}